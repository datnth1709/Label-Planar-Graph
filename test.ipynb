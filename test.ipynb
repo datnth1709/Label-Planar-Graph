{
 "cells": [
  {
   "attachments": {},
   "cell_type": "markdown",
   "metadata": {},
   "source": [
    "# Main to test the output of the functions"
   ]
  },
  {
   "cell_type": "code",
   "execution_count": 1,
   "metadata": {},
   "outputs": [],
   "source": [
    "import scipy.io as sio\n",
    "import cv2\n",
    "import matplotlib.pyplot as plt\n",
    "import numpy as np\n",
    "import os "
   ]
  },
  {
   "cell_type": "code",
   "execution_count": 5,
   "metadata": {},
   "outputs": [],
   "source": [
    "def convert_annot(annot):\n",
    "    corners = np.array(list(annot.keys()))\n",
    "    corners_mapping = {tuple(c): idx for idx, c in enumerate(corners)}\n",
    "    edges = set()\n",
    "    for corner, connections in annot.items():\n",
    "        idx_c = corners_mapping[tuple(corner)]\n",
    "        for other_c in connections:\n",
    "            idx_other_c = corners_mapping[tuple(other_c)]\n",
    "            if (idx_c, idx_other_c) not in edges and (idx_other_c, idx_c) not in edges:\n",
    "                edges.add((idx_c, idx_other_c))\n",
    "    edges = np.array(list(edges))\n",
    "    gt_data = {\n",
    "        'corners': corners,\n",
    "        'edges': edges\n",
    "    }\n",
    "    return gt_data"
   ]
  },
  {
   "cell_type": "code",
   "execution_count": 6,
   "metadata": {},
   "outputs": [],
   "source": [
    "def visualize_cond_generation(positive_pixels, confs, image, save_path, gt_corners=None, prec=None, recall=None,\n",
    "                              image_masks=None, edges=None, edge_confs=None):\n",
    "    image = image.copy()  # get a new copy of the original image\n",
    "    if confs is not None:\n",
    "        viz_confs = confs\n",
    "\n",
    "    if edges is not None:\n",
    "        preds = positive_pixels.astype(int)\n",
    "        # c_degrees = dict()\n",
    "        c_degrees = {}\n",
    "        for edge_i, edge_pair in enumerate(edges):\n",
    "            # conf = (edge_confs[edge_i] * 2) - 1\n",
    "            cv2.line(image, tuple(preds[edge_pair[0]]), tuple(preds[edge_pair[1]]), (255, 255 , 0), 2)\n",
    "            c_degrees[edge_pair[0]] = c_degrees.setdefault(edge_pair[0], 0) + 1\n",
    "            c_degrees[edge_pair[1]] = c_degrees.setdefault(edge_pair[1], 0) + 1\n",
    "\n",
    "    for idx, c in enumerate(positive_pixels):\n",
    "        if edges is not None and idx not in c_degrees:\n",
    "            continue\n",
    "        if confs is None:\n",
    "            cv2.circle(image, (int(c[0]), int(c[1])), 3, (0, 0, 255), -1)\n",
    "            cv2.putText(image, f\"{idx}\", (int(c[0]), int(c[1])),\n",
    "                        cv2.FONT_HERSHEY_SIMPLEX,\n",
    "                        0.5, (0, 0, 255), 1, cv2.LINE_AA)\n",
    "            print(f\"toa do {idx}\",(int(c[0]), int(c[1])))\n",
    "        else:\n",
    "            cv2.circle(image, (int(c[0]), int(c[1])), 3, (0, 0, 255 * viz_confs[idx]), -1)\n",
    "        # if edges is not None:\n",
    "        #    cv2.putText(image, '{}'.format(c_degrees[idx]), (int(c[0]), int(c[1] - 5)), cv2.FONT_HERSHEY_SIMPLEX,\n",
    "        #                0.5, (255, 0, 0), 1, cv2.LINE_AA)\n",
    "\n",
    "    if gt_corners is not None:\n",
    "        for c in gt_corners:\n",
    "            cv2.circle(image, (int(c[0]), int(c[1])), 3, (0, 255, 0), -1)\n",
    "\n",
    "    if image_masks is not None:\n",
    "        mask_ids = np.where(image_masks == 1)[0]\n",
    "        for mask_id in mask_ids:\n",
    "            y_idx = mask_id // 64\n",
    "            x_idx = (mask_id - y_idx * 64)\n",
    "            x_coord = x_idx * 4\n",
    "            y_coord = y_idx * 4\n",
    "            cv2.rectangle(image, (x_coord, y_coord), (x_coord + 3, y_coord + 3), (127, 127, 0), thickness=-1)\n",
    "\n",
    "    return image\n"
   ]
  },
  {
   "cell_type": "code",
   "execution_count": 2,
   "metadata": {},
   "outputs": [
    {
     "ename": "FileNotFoundError",
     "evalue": "[Errno 2] No such file or directory: './data/'",
     "output_type": "error",
     "traceback": [
      "\u001b[0;31m---------------------------------------------------------------------------\u001b[0m",
      "\u001b[0;31mFileNotFoundError\u001b[0m                         Traceback (most recent call last)",
      "Cell \u001b[0;32mIn[2], line 1\u001b[0m\n\u001b[0;32m----> 1\u001b[0m images \u001b[39m=\u001b[39m os\u001b[39m.\u001b[39;49mlistdir(\u001b[39m'\u001b[39;49m\u001b[39m./data/\u001b[39;49m\u001b[39m'\u001b[39;49m)\n\u001b[1;32m      2\u001b[0m \u001b[39mfor\u001b[39;00m i, name \u001b[39min\u001b[39;00m \u001b[39menumerate\u001b[39m(images):\n\u001b[1;32m      3\u001b[0m     \u001b[39mif\u001b[39;00m name\u001b[39m.\u001b[39mendswith(\u001b[39m'\u001b[39m\u001b[39mjpg\u001b[39m\u001b[39m'\u001b[39m):\n",
      "\u001b[0;31mFileNotFoundError\u001b[0m: [Errno 2] No such file or directory: './data/'"
     ]
    }
   ],
   "source": [
    "images = os.listdir('./data/')\n",
    "for i, name in enumerate(images):\n",
    "    if name.endswith('jpg'):\n",
    "        head = name.split('.jpg')[0]\n",
    "        img = cv2.imread('./data/'+head+ '.jpg')\n",
    "        lines = sio.loadmat('./data/'+head+ '.mat')['lines']\n",
    "        print(lines)\n",
    "        points_new = {}\n",
    "        for p1, p2 in lines:\n",
    "            p1 = tuple(p1)\n",
    "            p2 = tuple(p2)\n",
    "            if p1 not in points_new:\n",
    "                points_new[p1] = []\n",
    "            if p2 not in points_new:\n",
    "                points_new[p2] = []\n",
    "            points_new[p1].append(list(p2))\n",
    "            points_new[p2].append(list(p1))\n",
    "        # print(points_new)\n",
    "        break\n",
    "    # label = convert_annot(points_new)\n",
    "    # test = visualize_cond_generation(label['corners'].astype(int), None, img, None, gt_corners=label['corners'], image_masks=None, edges=label['edges'], edge_confs=None)\n",
    "\n",
    "    # plt.imshow(test)\n",
    "    # plt.show()"
   ]
  },
  {
   "cell_type": "code",
   "execution_count": 23,
   "metadata": {},
   "outputs": [
    {
     "name": "stdout",
     "output_type": "stream",
     "text": [
      "{(15.75, 155.25): [[182.5, 48.0]], (182.5, 48.0): [[15.75, 155.25], [198.5, 70.25]], (198.5, 70.25): [[182.5, 48.0], [210.0, 61.75], [222.0, 108.75], [164.5, 90.25]], (210.0, 61.75): [[198.5, 70.25]], (222.0, 108.75): [[198.5, 70.25]], (164.5, 90.25): [[198.5, 70.25]]}\n"
     ]
    }
   ],
   "source": [
    "\n",
    "img = cv2.imread('./data/'+'1548203615.09'+ '.jpg')\n",
    "lines = sio.loadmat('./data/'+'1548203615.09'+ '.mat')['lines']\n",
    "# print(lines)\n",
    "points_new = {}\n",
    "for p1, p2 in lines:\n",
    "    p1 = tuple(p1)\n",
    "    p2 = tuple(p2)\n",
    "    if p1 not in points_new:\n",
    "        points_new[p1] = []\n",
    "    if p2 not in points_new:\n",
    "        points_new[p2] = []\n",
    "    points_new[p1].append(list(p2))\n",
    "    points_new[p2].append(list(p1))\n",
    "print(points_new)\n",
    "# save points_new to npy file \n",
    "np.save('./data/'+'1548203615.09'+'.npy', points_new)\n"
   ]
  },
  {
   "attachments": {},
   "cell_type": "markdown",
   "metadata": {},
   "source": [
    "# convert label"
   ]
  },
  {
   "cell_type": "code",
   "execution_count": 29,
   "metadata": {},
   "outputs": [],
   "source": [
    "images = './data/rgb/'\n",
    "\n",
    "labels = 'data/annot/'\n",
    "\n",
    "\n",
    "for filename in os.listdir('./data/rgb/'):\n",
    "    if filename.endswith('.jpg'):\n",
    "        head = filename.split('.jpg')[0]\n",
    "        img = cv2.imread(images +head+ '.jpg')\n",
    "        lines = sio.loadmat(images +head+ '.mat')['lines']\n",
    "        points_new = {}\n",
    "        for p1, p2 in lines:\n",
    "            p1 = tuple(p1)\n",
    "            p2 = tuple(p2)\n",
    "            if p1 not in points_new:\n",
    "                points_new[p1] = []\n",
    "            if p2 not in points_new:\n",
    "                points_new[p2] = []\n",
    "            points_new[p1].append(list(p2))\n",
    "            points_new[p2].append(list(p1))\n",
    "        # save points_new to npy file \n",
    "        np.save(labels+ head +'.npy', points_new)\n",
    "\n"
   ]
  },
  {
   "cell_type": "code",
   "execution_count": 2,
   "metadata": {},
   "outputs": [],
   "source": [
    "base = 'data_test'\n",
    "for filename in os.listdir('./data_test/rgb/'):\n",
    "    if filename.endswith('.jpg'):\n",
    "        filename = filename.split('.jpg')[0]\n",
    "        with open(base +'/' + 'full_list'+'.txt', 'a') as f:\n",
    "            f.writelines(filename+'\\n')"
   ]
  },
  {
   "cell_type": "code",
   "execution_count": 3,
   "metadata": {},
   "outputs": [],
   "source": [
    "import random\n",
    "\n",
    "# Read the text file containing the paths to image files\n",
    "with open(base +'/' + 'full_list.txt') as f:\n",
    "    file_paths = f.readlines()\n",
    "\n",
    "# Shuffle the list for randomization\n",
    "random.shuffle(file_paths)\n",
    "\n",
    "# Determine the lengths of the two files\n",
    "total_items = len(file_paths)\n",
    "train_len = int(total_items * 0.8)\n",
    "test_len = total_items - train_len\n",
    "\n",
    "# Split the list into two files\n",
    "with open(base +'/'+ \"train_list.txt\", \"w\") as train_file:\n",
    "    train_file.writelines(file_paths[:train_len])\n",
    "\n",
    "with open(base +'/'+ \"valid_list.txt\", \"w\") as test_file:\n",
    "    test_file.writelines(file_paths[train_len:])\n"
   ]
  },
  {
   "cell_type": "code",
   "execution_count": null,
   "metadata": {},
   "outputs": [],
   "source": []
  }
 ],
 "metadata": {
  "kernelspec": {
   "display_name": "ocr_env",
   "language": "python",
   "name": "ocr_env"
  },
  "language_info": {
   "codemirror_mode": {
    "name": "ipython",
    "version": 3
   },
   "file_extension": ".py",
   "mimetype": "text/x-python",
   "name": "python",
   "nbconvert_exporter": "python",
   "pygments_lexer": "ipython3",
   "version": "3.10.6 (main, Mar 10 2023, 10:55:28) [GCC 11.3.0]"
  },
  "orig_nbformat": 4,
  "vscode": {
   "interpreter": {
    "hash": "916dbcbb3f70747c44a77c7bcd40155683ae19c65e1c03b4aa3499c5328201f1"
   }
  }
 },
 "nbformat": 4,
 "nbformat_minor": 2
}
